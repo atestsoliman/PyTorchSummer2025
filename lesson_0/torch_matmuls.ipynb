{
 "cells": [
  {
   "cell_type": "code",
   "execution_count": 2,
   "id": "a14af80a",
   "metadata": {},
   "outputs": [],
   "source": [
    "import torch"
   ]
  },
  {
   "cell_type": "markdown",
   "id": "52596ba2",
   "metadata": {},
   "source": [
    "# There are 4 main ways to multiply matrices in PyTorch\n",
    "- `torch.matmul()`\n",
    "- `torch.mm()`\n",
    "- `torch.bmm()`\n",
    "- `torch.mul()`  This does NOT perform traditional matrix multiplication, but is often mentioned along with the others"
   ]
  },
  {
   "cell_type": "code",
   "execution_count": 30,
   "id": "e7545095",
   "metadata": {},
   "outputs": [
    {
     "name": "stdout",
     "output_type": "stream",
     "text": [
      "Matrix 1:\n",
      "tensor([[1, 2],\n",
      "        [3, 4]], dtype=torch.int32)\n",
      "Matrix 2:\n",
      "tensor([[1, 1],\n",
      "        [1, 1]], dtype=torch.int32)\n"
     ]
    }
   ],
   "source": [
    "mat1 = torch.tensor([[1, 2], [3, 4]], dtype=torch.int32)\n",
    "mat2 = torch.ones([2,2], dtype=torch.int32)\n",
    "print(f\"Matrix 1:\\n{mat1}\")\n",
    "print(f\"Matrix 2:\\n{mat2}\")"
   ]
  },
  {
   "cell_type": "code",
   "execution_count": 31,
   "id": "afc94d5e",
   "metadata": {},
   "outputs": [
    {
     "name": "stdout",
     "output_type": "stream",
     "text": [
      "torch.matmul(mat1, mat2):\n",
      "Most common way to multiply matrices in PyTorch. Will automatically handle broadcasting and can handle higher dimensions.\n",
      "tensor([[3, 3],\n",
      "        [7, 7]], dtype=torch.int32)\n",
      "\n",
      "\n",
      "torch.mm(mat1, mat2):\n",
      "torch.mm is a specialized function for 2D matrix multiplication. It does not handle broadcasting and expects both inputs to be 2D tensors.\n",
      "tensor([[3, 3],\n",
      "        [7, 7]], dtype=torch.int32)\n",
      "\n",
      "\n",
      "torch.bmm(mat1.unsqueeze(0), mat2.unsqueeze(0)):\n",
      "torch.bmm is used for batch matrix multiplication. It expects 3D tensors where the first dimension is the batch size. Here, we unsqueeze to add a batch dimension.\n",
      "tensor([[[3, 3],\n",
      "         [7, 7]]], dtype=torch.int32)\n",
      "\n",
      "\n",
      "torch.mul(mat1, mat2):\n",
      "torch.mul performs element-wise multiplication. It does not perform matrix multiplication but multiplies corresponding elements of the two tensors.\n",
      "Note: This is equivalent to using the * operator for element-wise multiplication.\n",
      "tensor([[1, 2],\n",
      "        [3, 4]], dtype=torch.int32)\n",
      "\n",
      "\n"
     ]
    }
   ],
   "source": [
    "print(\"torch.matmul(mat1, mat2):\")\n",
    "print(\"Most common way to multiply matrices in PyTorch. Will automatically handle broadcasting and can handle higher dimensions.\")\n",
    "print(torch.matmul(mat1, mat2))\n",
    "print('\\n')\n",
    "\n",
    "print(\"torch.mm(mat1, mat2):\")\n",
    "print(\"torch.mm is a specialized function for 2D matrix multiplication. It does not handle broadcasting and expects both inputs to be 2D tensors.\")\n",
    "print(torch.mm(mat1, mat2))\n",
    "print('\\n')\n",
    "\n",
    "print(\"torch.bmm(mat1.unsqueeze(0), mat2.unsqueeze(0)):\")\n",
    "print(\"torch.bmm is used for batch matrix multiplication. It expects 3D tensors where the first dimension is the batch size. Here, we unsqueeze to add a batch dimension.\")\n",
    "print(torch.bmm(mat1.unsqueeze(0), mat2.unsqueeze(0)))\n",
    "print('\\n')\n",
    "\n",
    "print(\"torch.mul(mat1, mat2):\")\n",
    "print(\"torch.mul performs element-wise multiplication. It does not perform matrix multiplication but multiplies corresponding elements of the two tensors.\")\n",
    "print(\"Note: This is equivalent to using the * operator for element-wise multiplication.\")\n",
    "print(torch.mul(mat1, mat2))\n",
    "print('\\n')"
   ]
  },
  {
   "cell_type": "markdown",
   "id": "c974a0fd",
   "metadata": {},
   "source": [
    "For help with broadcasting, see here:\n",
    "https://docs.pytorch.org/docs/stable/notes/broadcasting.html#broadcasting-semantics"
   ]
  }
 ],
 "metadata": {
  "kernelspec": {
   "display_name": ".venv",
   "language": "python",
   "name": "python3"
  },
  "language_info": {
   "codemirror_mode": {
    "name": "ipython",
    "version": 3
   },
   "file_extension": ".py",
   "mimetype": "text/x-python",
   "name": "python",
   "nbconvert_exporter": "python",
   "pygments_lexer": "ipython3",
   "version": "3.10.12"
  }
 },
 "nbformat": 4,
 "nbformat_minor": 5
}
